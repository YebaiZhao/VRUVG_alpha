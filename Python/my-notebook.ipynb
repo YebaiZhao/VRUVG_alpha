{
 "cells": [
  {
   "cell_type": "code",
   "execution_count": 1,
   "metadata": {},
   "outputs": [
    {
     "name": "stdout",
     "output_type": "stream",
     "text": [
      "Using matplotlib backend: Qt5Agg\n",
      "Populating the interactive namespace from numpy and matplotlib\n",
      "Warning: Cannot change to a different GUI toolkit: notebook. Using qt5 instead.\n"
     ]
    }
   ],
   "source": [
    "%pylab\n",
    "%matplotlib notebook"
   ]
  },
  {
   "cell_type": "code",
   "execution_count": null,
   "metadata": {},
   "outputs": [],
   "source": [
    "import pandas as pd\n",
    "from pandas import DataFrame\n",
    "\n",
    "import matplotlib.pyplot as plt\n",
    "import mpl_toolkits.mplot3d.axes3d as p3\n",
    "import matplotlib.animation as animation\n",
    "\n",
    "from mpl_toolkits.mplot3d import Axes3D\n",
    "\n",
    "\n",
    "df=pd.read_csv('C:\\Users\\zhaoy\\AppData\\LocalLow\\FETLAB RIT\\VR User Visual Guidance/20180321_004441data.csv', index_col=0)\n",
    "pd.options.display.max_columns = None"
   ]
  },
  {
   "cell_type": "code",
   "execution_count": null,
   "metadata": {
    "scrolled": false
   },
   "outputs": [],
   "source": [
    "df.head(10)"
   ]
  },
  {
   "cell_type": "code",
   "execution_count": null,
   "metadata": {
    "scrolled": true
   },
   "outputs": [],
   "source": [
    "df.CatEvent[df.CatEvent==\"CatDead\"]"
   ]
  },
  {
   "cell_type": "code",
   "execution_count": null,
   "metadata": {},
   "outputs": [],
   "source": [
    "df.CatEvent[df.CatEvent==\"CatRebrith\"]"
   ]
  },
  {
   "cell_type": "code",
   "execution_count": null,
   "metadata": {},
   "outputs": [],
   "source": [
    "plot(df.HeadX.loc[50:], df.HeadZ.loc[50:], label='Head')\n",
    "plot(df.LHandX.loc[50:], df.LHandZ.loc[50:], label='LHand')\n",
    "plot(df.RHandX.loc[50:], df.RHandZ.loc[50:], label='RHand')\n",
    "legend()"
   ]
  },
  {
   "cell_type": "code",
   "execution_count": null,
   "metadata": {
    "scrolled": true
   },
   "outputs": [],
   "source": [
    "threedee = plt.figure().gca(projection='3d')\n",
    "\n",
    "threedee.plot(df.LHandX.loc[40:45], df.LHandZ.loc[40:45], df.LHandY.loc[40:45])\n",
    "threedee.plot(df.RHandX.loc[40:45], df.RHandZ.loc[40:45], df.RHandY.loc[40:45])\n",
    "threedee.plot(df.HeadX.loc[40:45], df.HeadZ.loc[40:45], df.HeadY.loc[40:45])\n",
    "threedee.set_xlabel('x')\n",
    "threedee.set_ylabel('y')\n",
    "threedee.set_zlabel('z')\n",
    "plt.show()"
   ]
  },
  {
   "cell_type": "code",
   "execution_count": null,
   "metadata": {},
   "outputs": [],
   "source": []
  },
  {
   "cell_type": "code",
   "execution_count": null,
   "metadata": {},
   "outputs": [],
   "source": [
    "plot(df.HeadtoBoard.iloc[100:600])\n",
    "plot(df.HeadtoCat.iloc[100:600])\n",
    "\n"
   ]
  },
  {
   "cell_type": "code",
   "execution_count": null,
   "metadata": {},
   "outputs": [],
   "source": [
    "import numpy as np\n",
    "from matplotlib import pyplot as plt\n",
    "from matplotlib import animation\n",
    "from mpl_toolkits.mplot3d import Axes3D\n",
    "\n",
    "# Create some random data, I took this piece from here:\n",
    "# http://matplotlib.org/mpl_examples/mplot3d/scatter3d_demo.py\n",
    "\n",
    "# Create a figure and a 3D Axes\n",
    "fig = plt.figure()\n",
    "ax = Axes3D(fig)\n",
    "\n",
    "# Create an init function and the animate functions.\n",
    "# Both are explained in the tutorial. Since we are changing\n",
    "# the the elevation and azimuth and no objects are really\n",
    "# changed on the plot we don't have to return anything from\n",
    "# the init and animate function. (return value is explained\n",
    "# in the tutorial.\n",
    "def init():\n",
    "    ax.scatter(df.HeadX.loc[df.index[500]], df.HeadZ.loc[df.index[500]], df.HeadY.loc[df.index[500]], c=\"goldenrod\", alpha=0.6)\n",
    "    return fig,\n",
    "\n",
    "def animate(i):\n",
    "    ax.view_init(elev=10., azim=i)\n",
    "    return fig,\n",
    "\n",
    "# Animate\n",
    "anim = animation.FuncAnimation(fig, animate, init_func=init,\n",
    "                               frames=360, interval=20, blit=True)\n",
    "# Save\n",
    "#anim.save('basic_animation.mp4', fps=30, extra_args=['-vcodec', 'libx264'])"
   ]
  },
  {
   "cell_type": "code",
   "execution_count": null,
   "metadata": {},
   "outputs": [],
   "source": [
    "import imageio\n",
    "imageio.plugins.ffmpeg.download()\n",
    "import matplotlib.pyplot as plt\n",
    "import numpy as np\n",
    "from moviepy.editor import VideoClip\n",
    "from moviepy.video.io.bindings import mplfig_to_npimage\n",
    "\n",
    "fig, ax = plt.subplots()\n",
    "ax=p3.Axes3D(fig)\n",
    "ax.set_xlim3d\n",
    "\n",
    "starttime = 17\n",
    "\n",
    "def make_frame(t):\n",
    "    ax.clear()\n",
    "    ax.plot(df.HeadX.loc[df.index[t]], df.HeadZ.loc[df.index[t]], df.HeadY.loc[df.index[t]])\n",
    "    t=t+1\n",
    "    return mplfig_to_npimage(fig)\n",
    "\n",
    "    \n",
    "\n",
    "animation = VideoClip(make_frame, duration=2)\n",
    "animation.write_gif('matplotlib.gif', fps=20)"
   ]
  },
  {
   "cell_type": "code",
   "execution_count": null,
   "metadata": {},
   "outputs": [],
   "source": [
    "print(df.ix[308.92310].LHandZ)\n",
    "df.index==308.92310"
   ]
  },
  {
   "cell_type": "code",
   "execution_count": null,
   "metadata": {},
   "outputs": [],
   "source": [
    "for i, val in enumerate(df.index):\n",
    "    if val == 308.92310:\n",
    "        print(i)\n",
    "        print df.index[i]"
   ]
  },
  {
   "cell_type": "code",
   "execution_count": null,
   "metadata": {},
   "outputs": [],
   "source": []
  }
 ],
 "metadata": {
  "anaconda-cloud": {},
  "kernelspec": {
   "display_name": "Python 2",
   "language": "python",
   "name": "python2"
  },
  "language_info": {
   "codemirror_mode": {
    "name": "ipython",
    "version": 2
   },
   "file_extension": ".py",
   "mimetype": "text/x-python",
   "name": "python",
   "nbconvert_exporter": "python",
   "pygments_lexer": "ipython2",
   "version": "2.7.14"
  }
 },
 "nbformat": 4,
 "nbformat_minor": 1
}
